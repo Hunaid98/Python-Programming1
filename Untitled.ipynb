{
 "cells": [
  {
   "cell_type": "code",
   "execution_count": 1,
   "metadata": {
    "collapsed": false
   },
   "outputs": [
    {
     "name": "stdout",
     "output_type": "stream",
     "text": [
      " Twinkle, Twinkle , little star \n",
      "\t How I wonder what you are \n",
      "\t\t  Up above the world so high \n",
      "\t\t  Like a diamond in the sky \n",
      "  Twinkle, Twinkle , little star \n",
      "\t How I wonder what you are\n"
     ]
    }
   ],
   "source": [
    "a =\" Twinkle, Twinkle , little star\"\n",
    "b = \"How I wonder what you are\"\n",
    "c = \" Up above the world so high\"\n",
    "d =\" Like a diamond in the sky\"\n",
    "\n",
    "print (a,\"\\n\\t\",b,\"\\n\\t\\t\", c, \"\\n\\t\\t\",d,\"\\n\", a, \"\\n\\t\", b)"
   ]
  },
  {
   "cell_type": "code",
   "execution_count": null,
   "metadata": {
    "collapsed": true
   },
   "outputs": [],
   "source": []
  }
 ],
 "metadata": {
  "kernelspec": {
   "display_name": "Python [Root]",
   "language": "python",
   "name": "Python [Root]"
  },
  "language_info": {
   "codemirror_mode": {
    "name": "ipython",
    "version": 3
   },
   "file_extension": ".py",
   "mimetype": "text/x-python",
   "name": "python",
   "nbconvert_exporter": "python",
   "pygments_lexer": "ipython3",
   "version": "3.5.2"
  }
 },
 "nbformat": 4,
 "nbformat_minor": 0
}
